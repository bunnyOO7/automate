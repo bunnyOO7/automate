from selenium.webdriver.common.action_chains import ActionChains
from selenium.webdriver.common.keys import Keys 
import time
from selenium import webdriver
import random

usr=input("enter the email or numer ")
pswrd=input("enter the pasword ")
i=p=z=full_loop=1
k=a=0
ww=0
li=["#likeall","#likeforlike","#likes4likes","#love","#instagood",
    "#tagblender","#tagblender","#likesforlikes","#ilikeback","#liketeam","#liker","#ilike",
    "#likealways","#likebackteam","#ilikeyou","#ilikeit","#likeme","#tflers","#likes","#likesback",
    "#photooftheday","#likesforlike","#iliketurtles","#likes4followers",
    "#likemebac","#ilu","#likesreturned"]
driver=webdriver.Chrome()

def pause():
    e=random.randint(3,8)
    time.sleep(e)


def run():
    global k
    global i
    global z
    global p
    run.y=random.randint(3,8)
    print("here is y",run.y)
    driver.get("https://www.instagram.com/accounts/login/?source=auth_switcher")
    time.sleep(random.randint(8,14))
    user=driver.find_element_by_xpath('/html/body/div[1]/section/main/div/article/div/div[1]/div/form/div[2]/div/label/input')
    user.click()
    user.send_keys(usr)
    time.sleep(2)
    password=driver.find_element_by_xpath('/html/body/div[1]/section/main/div/article/div/div[1]/div/form/div[3]/div/label/input')
    time.sleep(1)
    password.click()
    password.send_keys(pswrd)
    time.sleep(2)
    login=driver.find_element_by_xpath('/html/body/div[1]/section/main/div/article/div/div[1]/div/form/div[4]/button')
    login.click()
    time.sleep(random.randint(8,14))
    if k==0:
        now=driver.find_element_by_xpath('/html/body/div[4]/div/div/div[3]/button[2]')
        pause()
        now.click()
        pause()
    if k>0:
        pause()
        Nhover=ActionChains(driver)
        Nhover.send_keys(Keys.PAGE_UP)
        Nhover.perform()
        pause()
    k=k+1#2
    print("this his k ",k)
    searching()

def searching():
    #search
    print("here is search start")
    search=driver.find_element_by_xpath('/html/body/div[1]/section/nav/div[2]/div/div/div[2]/input')
    pause()
    hover=ActionChains(driver)
    hover.move_to_element(search)
    pause()
    hover.click()
    pause()
    xc=li.pop(0)
    search.send_keys(xc)
    pause()
    hover.send_keys(Keys.ARROW_DOWN)
    pause()
    hover.send_keys(Keys.ENTER)
    hover.perform()
    pause()
    #click on img
    #img=driver.find_element_by_xpath('/html/body/div[1]/section/main/div/div[3]/article/div[1]/div/div[1]/div[1]/a/div[1]/div[2]')
    img=driver.find_element_by_xpath('/html/body/div[1]/section/main/article/div[1]/div/div/div[1]/div[1]/a/div/div[2]')
    time.sleep(1)
    nhover=ActionChains(driver)
    nhover.move_to_element(img)
    pause()
    nhover.click()
    nhover.perform()
    pause()
    print("here is search end")
    
    
run()
def logout():
    print("logout")
    global p
    global i
    global a
    a=0
    i=1
    p=1
    pause()
    cross=driver.find_element_by_xpath('/html/body/div[4]/div[3]/button')
    pause()
    cross.click()
    pause()
    log=driver.find_element_by_xpath('/html/body/div[1]/section/nav/div[2]/div/div/div[3]/div/div[5]/a') #/html/body/div[1]/section/nav/div[2]/div/div/div[3]/div/div[3]/a')
    pause()
    log.click()
    pause()
    cir=driver.find_element_by_xpath('/html/body/div[1]/section/main/div/header/section/div[1]/div/button')
    pause()
    cir.click()
    pause()
    out=driver.find_element_by_xpath('/html/body/div[4]/div/div/div/button[9]')
    pause()
    out.click()
    pause()
    run()


def change():
    print("skip start")
    chng=driver.find_element_by_xpath(f'/html/body/div[4]/div[1]/div/div/a[{i}]')
    chover=ActionChains(driver)
    chover.move_to_element(chng)
    pause()
    chover.click(chng)
    pause()
    chover.perform()
    print("skip program")
    
    
while True:
        #def lik():
        #global i
        #global a
        #global y
        #global ww
    try:
        pause()
        ty=random.randint(1,5)
        cv=random.randint(1,5)
        if i>1:
            print("in my lopp")
            if ty==cv:
                print("going to skip")
                change()
                continue
        nlike=driver.find_element_by_xpath('/html/body/div[4]/div[2]/div/article/div[2]/section[1]/span[1]/button')
        lhover=ActionChains(driver)
        lhover.move_to_element(nlike)
        pause()
        lhover.click(nlike)
        time.sleep(1)
        lhover.perform()
        pause()
        chng=driver.find_element_by_xpath(f'/html/body/div[4]/div[1]/div/div/a[{i}]')
        chover=ActionChains(driver)
        chover.move_to_element(chng)
        pause()
        chover.click(chng)
        pause()
        chover.perform()
        print("here is i ",i)
        pause()
        a=a+1
        ww=ww+1
        print("like number ",ww)
        print("here is a",a)
        if i==1:
            i=i+1
        if a>run.y:
            logout()
        print("after incder i ",i)
    except:
        print("here is eerorrrr")
        change()
        
            
def err():
            global i
            print("error ")
            if i>1:
                i=i-1
                

                
#while True:
        #try:
 #           lik()
        #except :
            
            ##err()
