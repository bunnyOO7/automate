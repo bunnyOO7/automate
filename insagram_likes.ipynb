{
 "cells": [
  {
   "cell_type": "code",
   "execution_count": null,
   "metadata": {},
   "outputs": [
    {
     "name": "stdout",
     "output_type": "stream",
     "text": [
      "1\n",
      "2\n",
      "3\n",
      "4\n",
      "5\n",
      "6\n",
      "7\n",
      "8\n"
     ]
    }
   ],
   "source": [
    "from selenium.webdriver.common.action_chains import ActionChains\n",
    "from selenium.webdriver.common.keys import Keys \n",
    "import time\n",
    "from selenium import webdriver\n",
    "i=1\n",
    "driver=webdriver.Chrome()\n",
    "driver.get(\"https://www.instagram.com/accounts/login/?source=auth_switcher\")\n",
    "time.sleep(5)\n",
    "\n",
    "user=driver.find_element_by_xpath('/html/body/div[1]/section/main/div/article/div/div[1]/div/form/div[2]/div/label/input')\n",
    "user.click()\n",
    "user.send_keys(\"7062299288\")\n",
    "time.sleep(2)\n",
    "password=driver.find_element_by_xpath('/html/body/div[1]/section/main/div/article/div/div[1]/div/form/div[3]/div/label/input')\n",
    "time.sleep(1)\n",
    "password.click()\n",
    "password.send_keys(\"python\")\n",
    "time.sleep(2)\n",
    "login=driver.find_element_by_xpath('/html/body/div[1]/section/main/div/article/div/div[1]/div/form/div[4]/button')\n",
    "login.click()\n",
    "time.sleep(8)\n",
    "def lik():\n",
    "            global i\n",
    "            time.sleep(2)\n",
    "            like=driver.find_element_by_xpath(f'//*[@id=\"react-root\"]/section/main/section/div[2]/div[1]/div/article[{i}]/div[2]/section[1]/span[1]/button/span')\n",
    "            time.sleep(1)\n",
    "            hover = ActionChains(driver)\n",
    "            hover.move_to_element(like)\n",
    "            hover.click(like)\n",
    "            time.sleep(2)\n",
    "            hover.perform()\n",
    "            i=i+1\n",
    "\n",
    "def err():\n",
    "            global i\n",
    "            i=i-1\n",
    "while True:\n",
    "        try:\n",
    "            lik()\n",
    "        except:\n",
    "            err()\n",
    "            \n",
    "            \n"
   ]
  },
  {
   "cell_type": "code",
   "execution_count": null,
   "metadata": {},
   "outputs": [],
   "source": []
  }
 ],
 "metadata": {
  "kernelspec": {
   "display_name": "Python 3",
   "language": "python",
   "name": "python3"
  },
  "language_info": {
   "codemirror_mode": {
    "name": "ipython",
    "version": 3
   },
   "file_extension": ".py",
   "mimetype": "text/x-python",
   "name": "python",
   "nbconvert_exporter": "python",
   "pygments_lexer": "ipython3",
   "version": "3.7.3"
  }
 },
 "nbformat": 4,
 "nbformat_minor": 2
}
