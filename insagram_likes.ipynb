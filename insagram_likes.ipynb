from selenium.webdriver.common.action_chains import ActionChains
from selenium.webdriver.common.keys import Keys 
import time
from selenium import webdriver
usr=input("enter the email or numer ")
pswrd=input("enter the pasword ")
i=1
driver=webdriver.Chrome()
driver.get("https://www.instagram.com/accounts/login/?source=auth_switcher")
time.sleep(10)

user=driver.find_element_by_xpath('/html/body/div[1]/section/main/div/article/div/div[1]/div/form/div[2]/div/label/input')
user.click()
user.send_keys(usr)
time.sleep(2)
password=driver.find_element_by_xpath('/html/body/div[1]/section/main/div/article/div/div[1]/div/form/div[3]/div/label/input')
time.sleep(1)
password.click()
password.send_keys(pswrd)
time.sleep(2)
login=driver.find_element_by_xpath('/html/body/div[1]/section/main/div/article/div/div[1]/div/form/div[4]/button')
login.click()
time.sleep(8)
now=driver.find_element_by_xpath('/html/body/div[4]/div/div/div[3]/button[2]')
time.sleep(2)
now.click()
def lik():
            global i
            time.sleep(2)
            like=driver.find_element_by_xpath(f'/html/body/div[1]/section/main/section/div[2]/div[1]/div/article[{i}]/div[2]/section[1]/span[1]/button')#//*[@id="react-root"]/section/main/section/div[2]/div[1]/div/article[{i}]/div[2]/section[1]/span[1]/button')
            time.sleep(1)
            hover = ActionChains(driver)
            hover.move_to_element(like)
            time.sleep(2)
            hover.click(like)
            time.sleep(2)
            hover.perform()
            i=i+1

def err():
            global i
            i=i-1
while True:
        try:
            lik()
        except:
            
            err()
