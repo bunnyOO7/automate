{
 "cells": [
  {
   "cell_type": "code",
   "execution_count": null,
   "metadata": {},
   "outputs": [],
   "source": [
    "import time\n",
    "from selenium import webdriver\n",
    "driver=webdriver.Chrome()\n",
    "driver.get('https://web.whatsapp.com/')\n",
    "c=0\n",
    "e=0\n",
    "name=input(\"enter the user name \")\n",
    "time.sleep(3)\n",
    "search=driver.find_element_by_xpath('/html/body/div[1]/div/div/div[3]/div/div[1]/div/label/input')\n",
    "search.click()\n",
    "time.sleep(2)\n",
    "search.send_keys(name)\n",
    "time.sleep(2)\n",
    "user=driver.find_element_by_xpath('//span[@title=\"{}\"]'.format(name))\n",
    "user.click()\n",
    "time.sleep(2)\n",
    "def online():\n",
    "    global c\n",
    "    global e\n",
    "    e=0\n",
    "    user=driver.find_element_by_class_name('_19vo_').text\n",
    "    status=driver.find_element_by_class_name('_315-i').text\n",
    "    tym=time.ctime()\n",
    "    c=c+1\n",
    "    if c==1:\n",
    "        \n",
    "        print(f\"{user} is {status} on {tym}\",end=\"------------\")\n",
    "    \n",
    "def offline():\n",
    "    global c\n",
    "    global e\n",
    "    while True:\n",
    "        try:\n",
    "            status=driver.find_element_by_class_name('_315-i').text\n",
    "            if status:\n",
    "                c=0\n",
    "                break\n",
    "        except:\n",
    "            e=e+1\n",
    "            user=driver.find_element_by_class_name('_19vo_').text\n",
    "            tym=time.ctime()\n",
    "            if e==1:\n",
    "                print(f\"offline {user} on {tym} \",end=\"\\n\\n\")\n",
    "\n",
    "\n",
    "while True:\n",
    "    try:\n",
    "         online()\n",
    "    except:        \n",
    "        offline()\n",
    "\n",
    "\n",
    "\n",
    "\n",
    "\n"
   ]
  },
  {
   "cell_type": "code",
   "execution_count": null,
   "metadata": {},
   "outputs": [],
   "source": []
  },
  {
   "cell_type": "code",
   "execution_count": null,
   "metadata": {},
   "outputs": [],
   "source": []
  },
  {
   "cell_type": "code",
   "execution_count": null,
   "metadata": {},
   "outputs": [],
   "source": []
  }
 ],
 "metadata": {
  "kernelspec": {
   "display_name": "Python 3",
   "language": "python",
   "name": "python3"
  },
  "language_info": {
   "codemirror_mode": {
    "name": "ipython",
    "version": 3
   },
   "file_extension": ".py",
   "mimetype": "text/x-python",
   "name": "python",
   "nbconvert_exporter": "python",
   "pygments_lexer": "ipython3",
   "version": "3.7.3"
  }
 },
 "nbformat": 4,
 "nbformat_minor": 2
}
